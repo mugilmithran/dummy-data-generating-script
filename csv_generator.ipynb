{
 "cells": [
  {
   "cell_type": "code",
   "execution_count": 9,
   "id": "cc96d402-023f-4c36-b16a-1338218023db",
   "metadata": {},
   "outputs": [
    {
     "name": "stdout",
     "output_type": "stream",
     "text": [
      "Collecting faker\n",
      "  Downloading Faker-26.0.0-py3-none-any.whl.metadata (15 kB)\n",
      "Requirement already satisfied: python-dateutil>=2.4 in c:\\users\\vijay\\appdata\\local\\programs\\python\\python312\\lib\\site-packages (from faker) (2.9.0.post0)\n",
      "Requirement already satisfied: six>=1.5 in c:\\users\\vijay\\appdata\\local\\programs\\python\\python312\\lib\\site-packages (from python-dateutil>=2.4->faker) (1.16.0)\n",
      "Downloading Faker-26.0.0-py3-none-any.whl (1.8 MB)\n",
      "   ---------------------------------------- 0.0/1.8 MB ? eta -:--:--\n",
      "   ---------------------------------------- 0.0/1.8 MB ? eta -:--:--\n",
      "   -- ------------------------------------- 0.1/1.8 MB 1.5 MB/s eta 0:00:02\n",
      "   ----- ---------------------------------- 0.3/1.8 MB 2.3 MB/s eta 0:00:01\n",
      "   -------- ------------------------------- 0.4/1.8 MB 2.6 MB/s eta 0:00:01\n",
      "   ---------- ----------------------------- 0.5/1.8 MB 2.5 MB/s eta 0:00:01\n",
      "   ----------------- ---------------------- 0.8/1.8 MB 3.3 MB/s eta 0:00:01\n",
      "   -------------------- ------------------- 0.9/1.8 MB 3.5 MB/s eta 0:00:01\n",
      "   ------------------------ --------------- 1.1/1.8 MB 3.3 MB/s eta 0:00:01\n",
      "   ----------------------------- ---------- 1.3/1.8 MB 3.5 MB/s eta 0:00:01\n",
      "   -------------------------------- ------- 1.5/1.8 MB 3.5 MB/s eta 0:00:01\n",
      "   ------------------------------------ --- 1.7/1.8 MB 3.6 MB/s eta 0:00:01\n",
      "   ---------------------------------------  1.8/1.8 MB 3.7 MB/s eta 0:00:01\n",
      "   ---------------------------------------  1.8/1.8 MB 3.7 MB/s eta 0:00:01\n",
      "   ---------------------------------------  1.8/1.8 MB 3.7 MB/s eta 0:00:01\n",
      "   ---------------------------------------  1.8/1.8 MB 3.7 MB/s eta 0:00:01\n",
      "   ---------------------------------------  1.8/1.8 MB 3.7 MB/s eta 0:00:01\n",
      "   ---------------------------------------  1.8/1.8 MB 3.7 MB/s eta 0:00:01\n",
      "   ---------------------------------------  1.8/1.8 MB 3.7 MB/s eta 0:00:01\n",
      "   ---------------------------------------- 1.8/1.8 MB 2.3 MB/s eta 0:00:00\n",
      "Installing collected packages: faker\n",
      "Successfully installed faker-26.0.0\n"
     ]
    },
    {
     "name": "stderr",
     "output_type": "stream",
     "text": [
      "\n",
      "[notice] A new release of pip is available: 24.0 -> 24.1.2\n",
      "[notice] To update, run: python.exe -m pip install --upgrade pip\n"
     ]
    }
   ],
   "source": [
    "!pip install faker"
   ]
  },
  {
   "cell_type": "code",
   "execution_count": 10,
   "id": "aa2ec103-b94c-465f-a0ad-bc735175a680",
   "metadata": {},
   "outputs": [],
   "source": [
    "import csv\n",
    "import random\n",
    "from faker import Faker"
   ]
  },
  {
   "cell_type": "code",
   "execution_count": 11,
   "id": "1ae4538a-81fd-4258-a8dc-d3b94214a156",
   "metadata": {},
   "outputs": [],
   "source": [
    "fake = Faker()"
   ]
  },
  {
   "cell_type": "code",
   "execution_count": 14,
   "id": "8cc0b0be-a589-403a-ae9c-ce876be25b19",
   "metadata": {},
   "outputs": [],
   "source": [
    "rec = 1000\n",
    "\n",
    "csv_file = 'employees.csv'\n",
    "\n",
    "fieldnames = ['EmployeeID', 'FirstName', 'LastName', 'Email', 'Phone']"
   ]
  },
  {
   "cell_type": "code",
   "execution_count": 16,
   "id": "84cdfd56-12b6-4353-bc36-3da9cb4f3eff",
   "metadata": {},
   "outputs": [
    {
     "name": "stdout",
     "output_type": "stream",
     "text": [
      "Dummy employees data generated successfully and saved as employees.csv\n"
     ]
    }
   ],
   "source": [
    "with open(csv_file, mode='w', newline='') as file:\n",
    "    writer = csv.DictWriter(file, fieldnames=fieldnames)\n",
    "    writer.writeheader()\n",
    "\n",
    "    for i in range(rec):\n",
    "        employee_id = i + 1\n",
    "        first_name = fake.first_name()\n",
    "        last_name = fake.last_name()\n",
    "        email = fake.email()\n",
    "        phone = fake.phone_number()\n",
    "\n",
    "        writer.writerow({\n",
    "            'EmployeeID': employee_id,\n",
    "            'FirstName': first_name,\n",
    "            'LastName': last_name,\n",
    "            'Email': email,\n",
    "            'Phone': phone\n",
    "        })\n",
    "\n",
    "print(f'Dummy employees data generated successfully and saved as {csv_file}')"
   ]
  },
  {
   "cell_type": "code",
   "execution_count": null,
   "id": "bd3bbe1a-7dab-4e1a-969e-a8479e236558",
   "metadata": {},
   "outputs": [],
   "source": []
  },
  {
   "cell_type": "code",
   "execution_count": null,
   "id": "f3aefa75-1322-4b84-9a7a-a50367545331",
   "metadata": {},
   "outputs": [],
   "source": []
  },
  {
   "cell_type": "code",
   "execution_count": null,
   "id": "439b64bb-2dbf-442c-a56e-f5c48e8ad604",
   "metadata": {},
   "outputs": [],
   "source": []
  },
  {
   "cell_type": "code",
   "execution_count": null,
   "id": "285f0d39-79f6-4484-9462-97eb6c6545ce",
   "metadata": {},
   "outputs": [],
   "source": []
  },
  {
   "cell_type": "code",
   "execution_count": null,
   "id": "31b738ac-1e60-4330-93af-770064cb394c",
   "metadata": {},
   "outputs": [],
   "source": []
  },
  {
   "cell_type": "code",
   "execution_count": null,
   "id": "6cc88510-79dc-473e-8f5b-c39b8b92bd90",
   "metadata": {},
   "outputs": [],
   "source": []
  },
  {
   "cell_type": "code",
   "execution_count": null,
   "id": "e91b73fe-66a3-452b-b6fd-74cb71758c0c",
   "metadata": {},
   "outputs": [],
   "source": []
  },
  {
   "cell_type": "code",
   "execution_count": null,
   "id": "83fff1a7-a53d-4b80-973b-17304cc789bc",
   "metadata": {},
   "outputs": [],
   "source": []
  },
  {
   "cell_type": "code",
   "execution_count": null,
   "id": "28047564-bcc0-4eb4-8d90-a9894035cdf4",
   "metadata": {},
   "outputs": [],
   "source": []
  },
  {
   "cell_type": "code",
   "execution_count": null,
   "id": "e9e45b6e-0072-4b68-bd94-505bc289a149",
   "metadata": {},
   "outputs": [],
   "source": []
  },
  {
   "cell_type": "code",
   "execution_count": null,
   "id": "db459ad4-a013-41c3-8259-4e3d457bb183",
   "metadata": {},
   "outputs": [],
   "source": []
  }
 ],
 "metadata": {
  "kernelspec": {
   "display_name": "Python 3 (ipykernel)",
   "language": "python",
   "name": "python3"
  },
  "language_info": {
   "codemirror_mode": {
    "name": "ipython",
    "version": 3
   },
   "file_extension": ".py",
   "mimetype": "text/x-python",
   "name": "python",
   "nbconvert_exporter": "python",
   "pygments_lexer": "ipython3",
   "version": "3.12.3"
  }
 },
 "nbformat": 4,
 "nbformat_minor": 5
}
